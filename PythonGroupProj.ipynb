{
 "cells": [
  {
   "cell_type": "code",
   "execution_count": 3,
   "id": "5bf71d0a",
   "metadata": {},
   "outputs": [
    {
     "name": "stdout",
     "output_type": "stream",
     "text": [
      "Sentiment(polarity=0.0, subjectivity=0.0)\n"
     ]
    }
   ],
   "source": [
    "import sys\n",
    "def read():\n",
    "    try:\n",
    "        with open(FILENAME, newline = \"\") as tb:\n",
    "            text = tb.read()\n",
    "            \n",
    "    except FileNotFoundError:\n",
    "        print(\"Could not find file.\")\n",
    "        exit_program()\n",
    "    except Exception as e:\n",
    "        print(type(e), e)\n",
    "        exit_program()\n",
    "        \n",
    "def write():\n",
    "    with open(FILENAME, \"w\") as file:\n",
    "\n",
    "def exit_program():\n",
    "    print(\"Terminating Program...\")\n",
    "    sys.exit()\n",
    "    \n",
    "def display_menu():\n",
    "    print(\"Product review sentiment program \\n\")\n",
    "    print()\n",
    "    \n",
    "def main():\n",
    "    \n",
    "    "
   ]
  },
  {
   "cell_type": "code",
   "execution_count": null,
   "id": "df4e8123",
   "metadata": {},
   "outputs": [],
   "source": [
    "import sys\n",
    "FILENAME = \"demo.txt\"\n",
    "\n",
    "from textblob import TextBlob\n",
    "\n",
    "with open('demo.txt', 'r') as tb:\n",
    "    text = tb.read()\n",
    "    \n",
    "blob = TextBlob(text)\n",
    "sentiment = blob.sentiment\n",
    "print(sentiment"
   ]
  }
 ],
 "metadata": {
  "kernelspec": {
   "display_name": "Python 3",
   "language": "python",
   "name": "python3"
  },
  "language_info": {
   "codemirror_mode": {
    "name": "ipython",
    "version": 3
   },
   "file_extension": ".py",
   "mimetype": "text/x-python",
   "name": "python",
   "nbconvert_exporter": "python",
   "pygments_lexer": "ipython3",
   "version": "3.8.8"
  }
 },
 "nbformat": 4,
 "nbformat_minor": 5
}
